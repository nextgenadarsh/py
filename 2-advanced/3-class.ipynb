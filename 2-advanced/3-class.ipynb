{
 "cells": [
  {
   "cell_type": "code",
   "execution_count": null,
   "metadata": {},
   "outputs": [],
   "source": [
    "'''\n",
    "Default constructor\n",
    "'''\n",
    "class AnimalDefault:\n",
    "    name: str = \"default animal\"\n",
    "    age: int\n",
    "    color: str = 'white'\n",
    "\n",
    "    def __init__(self):\n",
    "        pass\n",
    "\n",
    "    def print(self):\n",
    "        print(f\"Name: {self.name} | age: {self.age} | Color: {self.color}\")\n",
    "\n",
    "'''\n",
    "Paramter constructor\n",
    "'''\n",
    "class AnimalWithParameter: \n",
    "    def __init__(self, name, age, color):\n",
    "        self.__name = name\n",
    "        self.age = age\n",
    "        self.color = color\n",
    "    \n",
    "    def name(self):\n",
    "        return self.__name\n",
    "    \n",
    "    def set_name(self, name):\n",
    "        self.__name = name\n",
    "\n",
    "    def print(self):\n",
    "        print(f\"Name: {self.name()} | age: {self.age} | Color: {self.color}\")\n",
    "\n",
    "class Dog(AnimalWithParameter):\n",
    "    def __init__(self, name, age, color, domestic_name):\n",
    "        super().__init__(name, age, color)\n",
    "        self.__domestic_name = domestic_name\n",
    "\n",
    "    def bark(self):\n",
    "        print(\"Barking\")\n",
    "\n",
    "    def print(self):\n",
    "        print(f\"Name: {self.name()} | Domestic Name: {self.__domestic_name} | age: {self.age} | Color: {self.color}\")\n",
    "    \n",
    "    def do(self):\n",
    "        print(\"\")\n"
   ]
  },
  {
   "cell_type": "code",
   "execution_count": 118,
   "metadata": {},
   "outputs": [
    {
     "name": "stdout",
     "output_type": "stream",
     "text": [
      "Name: default animal | age: 12 | Color: white\n",
      "Name: Lilly Roy | age: 23 | Color: blue\n",
      "Barking\n",
      "Name: My Dog | Domestic Name: Tiger | age: 23 | Color: black\n"
     ]
    }
   ],
   "source": [
    "animal =  AnimalDefault()\n",
    "animal.age = 12\n",
    "animal.print()\n",
    "\n",
    "cat = AnimalWithParameter(\"Lilly\", 23, \"blue\")\n",
    "cat.set_name(\"Lilly Roy\")\n",
    "cat.print()\n",
    "\n",
    "dog = Dog(\"My Dog\", 23, \"black\", \"Tiger\")\n",
    "dog.bark()\n",
    "dog.print()"
   ]
  }
 ],
 "metadata": {
  "kernelspec": {
   "display_name": "Python 3",
   "language": "python",
   "name": "python3"
  },
  "language_info": {
   "codemirror_mode": {
    "name": "ipython",
    "version": 3
   },
   "file_extension": ".py",
   "mimetype": "text/x-python",
   "name": "python",
   "nbconvert_exporter": "python",
   "pygments_lexer": "ipython3",
   "version": "3.9.6"
  }
 },
 "nbformat": 4,
 "nbformat_minor": 2
}
