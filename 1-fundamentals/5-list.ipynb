{
 "cells": [
  {
   "cell_type": "code",
   "execution_count": 1,
   "metadata": {},
   "outputs": [
    {
     "name": "stdout",
     "output_type": "stream",
     "text": [
      "names:  ['0 Adarsh', '1 Sumit', '2 Rita', '3 Tanya', '4 Jason']\n",
      "names[0]:  0 Adarsh\n",
      "names[4]:  4 Jason\n",
      "names[1:2]:  ['1 Sumit']\n",
      "names[:3]:  ['0 Adarsh', '1 Sumit', '2 Rita']\n",
      "names[-1]:  4 Jason\n",
      "names[-2]:  ['3 Tanya', '4 Jason']\n",
      "['5. Garry', '4 Jason', '3 Tanya', '2 Rita', '1 Sumit', '0 Adarsh']\n",
      "[]\n"
     ]
    }
   ],
   "source": [
    "names = [\"0 Adarsh\", \"1 Sumit\", \"2 Rita\", \"3 Tanya\", \"4 Jason\"]\n",
    "\n",
    "print(\"names: \", names)\n",
    "print(\"names[0]: \", names[0])\n",
    "print(\"names[4]: \", names[4])\n",
    "print(\"names[1:2]: \", names[1:2]) # excluding 2\n",
    "print(\"names[:3]: \", names[:3]) # excluding 3\n",
    "print(\"names[-1]: \", names[-1])\n",
    "print(\"names[-2]: \", names[-2:]) # last two\n",
    "\n",
    "names.append(\"5. Garry\") # addpend at last\n",
    "\n",
    "names.insert(0, \"0 Kumar\") # insert at index 0\n",
    "names.pop(0) # remove at index 0\n",
    "\n",
    "names.sort(reverse=True)\n",
    "\n",
    "print(names)\n",
    "\n",
    "names.clear()\n",
    "print(names)"
   ]
  },
  {
   "cell_type": "code",
   "execution_count": null,
   "metadata": {},
   "outputs": [],
   "source": []
  }
 ],
 "metadata": {
  "kernelspec": {
   "display_name": "Python 3",
   "language": "python",
   "name": "python3"
  },
  "language_info": {
   "codemirror_mode": {
    "name": "ipython",
    "version": 3
   },
   "file_extension": ".py",
   "mimetype": "text/x-python",
   "name": "python",
   "nbconvert_exporter": "python",
   "pygments_lexer": "ipython3",
   "version": "3.9.6"
  }
 },
 "nbformat": 4,
 "nbformat_minor": 2
}
