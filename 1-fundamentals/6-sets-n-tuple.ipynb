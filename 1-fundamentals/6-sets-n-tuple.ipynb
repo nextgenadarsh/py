{
 "cells": [
  {
   "cell_type": "code",
   "execution_count": 1,
   "metadata": {},
   "outputs": [
    {
     "name": "stdout",
     "output_type": "stream",
     "text": [
      "{1, 3, 5, 9}\n",
      "Length:  4\n",
      "Iterating the elements: \n",
      "1\n",
      "3\n",
      "5\n",
      "9\n",
      "{1, 2, 3, 4, 5, 6}\n",
      "('First Name', 'Middle Name', 'Last Name')\n",
      "First Name\n"
     ]
    }
   ],
   "source": [
    "'''\n",
    "Set\n",
    "'''\n",
    "\n",
    "unique_numbers = { 1, 3, 5, 9, 3, 1, 5, 1}\n",
    "\n",
    "print(unique_numbers) # prints only unique numbers\n",
    "print(\"Length: \", len(unique_numbers))\n",
    "\n",
    "print(\"Iterating the elements: \")\n",
    "for num in unique_numbers:\n",
    "    print(num)\n",
    "\n",
    "unique_numbers.add(2)               # add element to set\n",
    "unique_numbers.update([4,6, 4])     # add multiple element to set\n",
    "unique_numbers.discard(9)           # remove an element if exist\n",
    "unique_numbers.discard(100)         # remove an element if exist\n",
    "\n",
    "print(unique_numbers)\n",
    "\n",
    "\n",
    "'''\n",
    "Tuple\n",
    "    - Immutable\n",
    "'''\n",
    "\n",
    "full_name = (\"First Name\", \"Middle Name\", \"Last Name\")\n",
    "\n",
    "print(full_name)\n",
    "print(full_name[0])\n"
   ]
  },
  {
   "cell_type": "code",
   "execution_count": null,
   "metadata": {},
   "outputs": [],
   "source": []
  }
 ],
 "metadata": {
  "kernelspec": {
   "display_name": "Python 3",
   "language": "python",
   "name": "python3"
  },
  "language_info": {
   "codemirror_mode": {
    "name": "ipython",
    "version": 3
   },
   "file_extension": ".py",
   "mimetype": "text/x-python",
   "name": "python",
   "nbconvert_exporter": "python",
   "pygments_lexer": "ipython3",
   "version": "3.9.6"
  }
 },
 "nbformat": 4,
 "nbformat_minor": 2
}
