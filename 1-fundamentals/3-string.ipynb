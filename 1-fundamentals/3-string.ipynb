{
 "cells": [
  {
   "cell_type": "code",
   "execution_count": 1,
   "metadata": {},
   "outputs": [
    {
     "name": "stdout",
     "output_type": "stream",
     "text": [
      "My name is Adarsh Kumar\n",
      "My name is Adarsh Kumar\n",
      "Welcome Adarsh Kumar\n"
     ]
    }
   ],
   "source": [
    "name = \"Adarsh Kumar\"\n",
    "\n",
    "print(\"My name is \"+ name)\n",
    "print(f\"My name is {name}\")\n",
    "\n",
    "welcome_message = \"Welcome {}\"\n",
    "\n",
    "print(welcome_message.format(name))"
   ]
  },
  {
   "cell_type": "code",
   "execution_count": null,
   "metadata": {},
   "outputs": [],
   "source": []
  }
 ],
 "metadata": {
  "kernelspec": {
   "display_name": "Python 3",
   "language": "python",
   "name": "python3"
  },
  "language_info": {
   "codemirror_mode": {
    "name": "ipython",
    "version": 3
   },
   "file_extension": ".py",
   "mimetype": "text/x-python",
   "name": "python",
   "nbconvert_exporter": "python",
   "pygments_lexer": "ipython3",
   "version": "3.9.6"
  }
 },
 "nbformat": 4,
 "nbformat_minor": 2
}
