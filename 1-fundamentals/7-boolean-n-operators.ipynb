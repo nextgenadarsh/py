{
 "cells": [
  {
   "cell_type": "code",
   "execution_count": 1,
   "metadata": {},
   "outputs": [
    {
     "name": "stdout",
     "output_type": "stream",
     "text": [
      "True\n",
      "False\n",
      "True\n",
      "True\n",
      "Logical Operators\n",
      "True\n",
      "False\n",
      "False\n",
      "True\n"
     ]
    }
   ],
   "source": [
    "'''\n",
    "Comparision Operators\n",
    "'''\n",
    "age = 45\n",
    "print(age == 45)\n",
    "print(age != 45)\n",
    "print(age >= 45)\n",
    "\n",
    "\n",
    "are_you_happy = True\n",
    "print(are_you_happy)\n",
    "\n",
    "'''\n",
    "Logical Operators\n",
    "'''\n",
    "print(\"Logical Operators\")\n",
    "\n",
    "print(age > 45 or age == 45)\n",
    "print(age > 45 and age < 45)\n",
    "\n",
    "print(not(\"not\" == \"not\"))\n",
    "print(not(\"not\" == \"NOT\"))\n"
   ]
  },
  {
   "cell_type": "code",
   "execution_count": null,
   "metadata": {},
   "outputs": [],
   "source": []
  }
 ],
 "metadata": {
  "kernelspec": {
   "display_name": "Python 3",
   "language": "python",
   "name": "python3"
  },
  "language_info": {
   "codemirror_mode": {
    "name": "ipython",
    "version": 3
   },
   "file_extension": ".py",
   "mimetype": "text/x-python",
   "name": "python",
   "nbconvert_exporter": "python",
   "pygments_lexer": "ipython3",
   "version": "3.9.6"
  }
 },
 "nbformat": 4,
 "nbformat_minor": 2
}
