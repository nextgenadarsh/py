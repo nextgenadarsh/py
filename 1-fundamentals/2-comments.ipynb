{
 "cells": [
  {
   "cell_type": "code",
   "execution_count": 1,
   "metadata": {},
   "outputs": [
    {
     "name": "stdout",
     "output_type": "stream",
     "text": [
      "Single vs Multiline comments\n"
     ]
    },
    {
     "data": {
      "text/plain": [
       "\"\\nThis is\\nmultiline comment\\nusing single quote (')\\n\""
      ]
     },
     "execution_count": 1,
     "metadata": {},
     "output_type": "execute_result"
    }
   ],
   "source": [
    "print(\"Single vs Multiline comments\")\n",
    "\n",
    "# This is single line comment\n",
    "\n",
    "\"\"\"\n",
    "This is\n",
    "multiline\n",
    "comment\n",
    "using double quote (\")\n",
    "\"\"\"\n",
    "\n",
    "'''\n",
    "This is\n",
    "multiline comment\n",
    "using single quote (')\n",
    "'''\n",
    "\n"
   ]
  },
  {
   "cell_type": "code",
   "execution_count": null,
   "metadata": {},
   "outputs": [],
   "source": []
  }
 ],
 "metadata": {
  "kernelspec": {
   "display_name": "Python 3",
   "language": "python",
   "name": "python3"
  },
  "language_info": {
   "codemirror_mode": {
    "name": "ipython",
    "version": 3
   },
   "file_extension": ".py",
   "mimetype": "text/x-python",
   "name": "python",
   "nbconvert_exporter": "python",
   "pygments_lexer": "ipython3",
   "version": "3.9.6"
  }
 },
 "nbformat": 4,
 "nbformat_minor": 2
}
