{
 "cells": [
  {
   "cell_type": "code",
   "execution_count": 1,
   "metadata": {},
   "outputs": [
    {
     "name": "stdout",
     "output_type": "stream",
     "text": [
      "Person is an adult\n",
      "I am from outside if-else statements.\n"
     ]
    }
   ],
   "source": [
    "age = 45\n",
    "\n",
    "if age >= 60:\n",
    "    print(\"Person is a senior citizen\")\n",
    "elif 18 <= age < 60:                    # Using multiple values to check against\n",
    "    print(\"Person is an adult\")\n",
    "else:\n",
    "    print(\"Person is minor\")\n",
    "print(\"I am from outside if-else statements.\")"
   ]
  },
  {
   "cell_type": "code",
   "execution_count": null,
   "metadata": {},
   "outputs": [],
   "source": []
  }
 ],
 "metadata": {
  "kernelspec": {
   "display_name": "Python 3",
   "language": "python",
   "name": "python3"
  },
  "language_info": {
   "codemirror_mode": {
    "name": "ipython",
    "version": 3
   },
   "file_extension": ".py",
   "mimetype": "text/x-python",
   "name": "python",
   "nbconvert_exporter": "python",
   "pygments_lexer": "ipython3",
   "version": "3.9.6"
  }
 },
 "nbformat": 4,
 "nbformat_minor": 2
}
