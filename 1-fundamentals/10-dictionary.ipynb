{
 "cells": [
  {
   "cell_type": "code",
   "execution_count": 50,
   "metadata": {},
   "outputs": [
    {
     "name": "stdout",
     "output_type": "stream",
     "text": [
      "{'name': 'Adarsh', 'age': 40}\n",
      "Adarsh\n"
     ]
    }
   ],
   "source": [
    "user = {\n",
    "    \"name\": \"Adarsh\",\n",
    "    \"age\": 40\n",
    "}\n",
    "print(user)\n",
    "print(user.get(\"name\"))"
   ]
  },
  {
   "cell_type": "code",
   "execution_count": 51,
   "metadata": {},
   "outputs": [
    {
     "data": {
      "text/plain": [
       "{'name': 'Adarsh Kumar', 'age': 40, 'location': 'Pune'}"
      ]
     },
     "execution_count": 51,
     "metadata": {},
     "output_type": "execute_result"
    }
   ],
   "source": [
    "user[\"name\"] = \"Adarsh Kumar\"\n",
    "user[\"location\"] = \"Pune\"\n",
    "user"
   ]
  },
  {
   "cell_type": "code",
   "execution_count": 52,
   "metadata": {},
   "outputs": [
    {
     "name": "stdout",
     "output_type": "stream",
     "text": [
      "{'name': 'Adarsh Kumar', 'location': 'Pune'}\n",
      "{'name': 'Adarsh Kumar', 'location': 'Pune', 'country': 'India'}\n",
      "{'name': 'Adarsh Kumar', 'location': 'Pune'}\n"
     ]
    }
   ],
   "source": [
    "del user[\"age\"]\n",
    "print(user)\n",
    "\n",
    "user[\"country\"] = \"India\"\n",
    "print(user)\n",
    "user.pop(\"country\")\n",
    "print(user)"
   ]
  },
  {
   "cell_type": "code",
   "execution_count": 53,
   "metadata": {},
   "outputs": [
    {
     "name": "stdout",
     "output_type": "stream",
     "text": [
      "name : Adarsh Kumar\n",
      "location : Pune\n",
      "name: Adarsh Kumar\n",
      "location: Pune\n"
     ]
    }
   ],
   "source": [
    "for key in user:\n",
    "    print(f\"{key} : {user[key]}\")\n",
    "\n",
    "for key, value in user.items():\n",
    "    print(f\"{key}: {value}\")"
   ]
  },
  {
   "cell_type": "code",
   "execution_count": 54,
   "metadata": {},
   "outputs": [
    {
     "data": {
      "text/plain": [
       "{'name': 'Adarsh Kumar', 'location': 'Pune'}"
      ]
     },
     "execution_count": 54,
     "metadata": {},
     "output_type": "execute_result"
    }
   ],
   "source": [
    "user_clone = user.copy()\n",
    "user_clone"
   ]
  },
  {
   "cell_type": "code",
   "execution_count": 55,
   "metadata": {},
   "outputs": [
    {
     "data": {
      "text/plain": [
       "{}"
      ]
     },
     "execution_count": 55,
     "metadata": {},
     "output_type": "execute_result"
    }
   ],
   "source": [
    "user.clear()\n",
    "user"
   ]
  },
  {
   "cell_type": "code",
   "execution_count": null,
   "metadata": {},
   "outputs": [],
   "source": []
  }
 ],
 "metadata": {
  "kernelspec": {
   "display_name": "Python 3",
   "language": "python",
   "name": "python3"
  },
  "language_info": {
   "codemirror_mode": {
    "name": "ipython",
    "version": 3
   },
   "file_extension": ".py",
   "mimetype": "text/x-python",
   "name": "python",
   "nbconvert_exporter": "python",
   "pygments_lexer": "ipython3",
   "version": "3.9.6"
  }
 },
 "nbformat": 4,
 "nbformat_minor": 2
}
